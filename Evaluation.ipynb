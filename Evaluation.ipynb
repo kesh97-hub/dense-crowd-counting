{
 "cells": [
  {
   "cell_type": "code",
   "execution_count": 1,
   "id": "78297e48-52e7-42b7-b28f-1e05f89b2b0f",
   "metadata": {
    "scrolled": true
   },
   "outputs": [],
   "source": [
    "import torch\n",
    "import pytorch_ssim"
   ]
  },
  {
   "cell_type": "code",
   "execution_count": 2,
   "id": "0ab43f76-dca3-4803-a7f4-bca61be69cd2",
   "metadata": {},
   "outputs": [],
   "source": [
    "from swin_wnet_model import SwinWnet\n",
    "from utilities import MAE_BCE_Loss, visualize_density_maps, calculate_count_metrics"
   ]
  },
  {
   "cell_type": "code",
   "execution_count": 3,
   "id": "03db4d94-3eab-409a-affa-907e3a3aa26d",
   "metadata": {},
   "outputs": [
    {
     "data": {
      "text/plain": [
       "1"
      ]
     },
     "execution_count": 3,
     "metadata": {},
     "output_type": "execute_result"
    }
   ],
   "source": [
    "torch.cuda.device_count()"
   ]
  },
  {
   "cell_type": "code",
   "execution_count": 4,
   "id": "69fd7c43-85c8-4b36-b8ee-a7da507b9320",
   "metadata": {},
   "outputs": [
    {
     "data": {
      "text/plain": [
       "device(type='cuda')"
      ]
     },
     "execution_count": 4,
     "metadata": {},
     "output_type": "execute_result"
    }
   ],
   "source": [
    "device = torch.device('cuda' if torch.cuda.is_available() else 'cpu')\n",
    "device"
   ]
  },
  {
   "cell_type": "code",
   "execution_count": 5,
   "id": "038adf3b-2d15-4af6-8890-4d8bcc08e838",
   "metadata": {},
   "outputs": [],
   "source": [
    "model = SwinWnet()\n",
    "model.load_state_dict(torch.load('model.pth'))\n",
    "if torch.cuda.is_available() and torch.cuda.device_count() > 1:\n",
    "    model = nn.DataParallel(model)\n",
    "model = model.cuda()\n",
    "\n",
    "criterion = MAE_BCE_Loss()"
   ]
  },
  {
   "cell_type": "code",
   "execution_count": 6,
   "id": "9e41725f-4761-478b-8f72-1111630cd575",
   "metadata": {},
   "outputs": [],
   "source": [
    "def evaluate(model, test_loader, criterion, sigma=0):\n",
    "    model.eval()\n",
    "    test_running_loss = 0.0\n",
    "    test_running_mae = 0.0\n",
    "    test_running_mse = 0.0\n",
    "    test_running_rmse = 0.0\n",
    "\n",
    "    with torch.no_grad():\n",
    "        for images, target_density_maps, target_reinforcement_maps in test_loader:\n",
    "            images, target_density_maps, target_reinforcement_maps = images.cuda(), target_density_maps.cuda(), target_reinforcement_maps.cuda()\n",
    "\n",
    "            generated_density_maps, generated_reinforcement_maps = model(images)\n",
    "\n",
    "            loss = criterion(generated_density_maps, generated_reinforcement_maps, target_density_maps, target_reinforcement_maps)\n",
    "            test_running_loss += loss.item()\n",
    "\n",
    "            generated_density_maps = torch.relu(generated_density_maps)\n",
    "#             visualize_density_maps(images, target_density_maps, generated_density_maps, sigma=sigma)\n",
    "            \n",
    "\n",
    "            mae, mse, rmse = calculate_count_metrics(generated_density_maps, target_density_maps)\n",
    "            test_running_mae += mae\n",
    "            test_running_mse += mse\n",
    "            test_running_rmse += rmse\n",
    "\n",
    "    avg_test_loss = test_running_loss / len(test_loader)\n",
    "    avg_test_mae = test_running_mae / len(test_loader)\n",
    "    avg_test_mse = test_running_mse / len(test_loader)\n",
    "    avg_test_rmse = test_running_rmse / len(test_loader)\n",
    "\n",
    "    print(f\"Test - Loss: {avg_test_loss:.5f}, MAE: {avg_test_mae:.5f}, MSE: {avg_test_mse:.5f}, RMSE: {avg_test_rmse:.5f}\")"
   ]
  },
  {
   "cell_type": "markdown",
   "id": "7969c5a3-6952-44dd-91cf-ee50778cb209",
   "metadata": {},
   "source": [
    "### QNRF Dataset"
   ]
  },
  {
   "cell_type": "code",
   "execution_count": 7,
   "id": "88817f50-070a-49e0-ac61-107dc75d6d2c",
   "metadata": {},
   "outputs": [],
   "source": [
    "from QNRF_Dataloader import prepare_dataloaders\n",
    "train_dir = \"../../UCF-QNRF_ECCV18/Train\"\n",
    "test_dir = \"../../UCF-QNRF_ECCV18/Test\"\n",
    "qnrf_train_loader, qnrf_val_loader, qnrf_test_loader = prepare_dataloaders(train_dir=train_dir, test_dir=test_dir, val_split=0.2)"
   ]
  },
  {
   "cell_type": "code",
   "execution_count": 8,
   "id": "8d5c3cfb-a7bf-431c-bef6-c77c3a4d4921",
   "metadata": {},
   "outputs": [
    {
     "name": "stdout",
     "output_type": "stream",
     "text": [
      "Test - Loss: 11.46678, MAE: 260.48846, MSE: 197807.89041, RMSE: 260.48846\n"
     ]
    }
   ],
   "source": [
    "evaluate(model, qnrf_test_loader, criterion,sigma=0)"
   ]
  },
  {
   "cell_type": "markdown",
   "id": "e7b08886-9e22-48d1-8611-2174b193942b",
   "metadata": {},
   "source": [
    "### ShanghaiTech A Dataset"
   ]
  },
  {
   "cell_type": "code",
   "execution_count": 9,
   "id": "039ebb91-2b09-41a1-aae4-aab6de16cc5e",
   "metadata": {},
   "outputs": [],
   "source": [
    "from ShanghaiTechA_Dataloader import prepare_dataloaders\n",
    "train_image_path = '../../ShanghaiTech_Crowd_Counting_Dataset/part_A_final/train_data/images'\n",
    "train_annotation_path = '../../ShanghaiTech_Crowd_Counting_Dataset/part_A_final/train_data/ground_truth'\n",
    "test_image_path = '../../ShanghaiTech_Crowd_Counting_Dataset/part_A_final/test_data/images'\n",
    "test_annotation_path = '../../ShanghaiTech_Crowd_Counting_Dataset/part_A_final/test_data/ground_truth'\n",
    "STA_train_loader, STA_val_loader, STA_test_loader = prepare_dataloaders(train_image_path, train_annotation_path, test_image_path, test_annotation_path)"
   ]
  },
  {
   "cell_type": "code",
   "execution_count": 10,
   "id": "a9b699a5-60e6-4e74-a26e-3daed938f08d",
   "metadata": {
    "tags": []
   },
   "outputs": [
    {
     "name": "stdout",
     "output_type": "stream",
     "text": [
      "Test - Loss: 8.86193, MAE: 140.26835, MSE: 53771.30998, RMSE: 140.26835\n"
     ]
    }
   ],
   "source": [
    "evaluate(model, STA_test_loader, criterion, sigma=0)"
   ]
  },
  {
   "cell_type": "markdown",
   "id": "d014b733-c732-43ed-b7c2-627538b1a62a",
   "metadata": {},
   "source": [
    "### UCF-CC-50 Dataset"
   ]
  },
  {
   "cell_type": "code",
   "execution_count": 11,
   "id": "c85599c5-da40-4e05-99eb-ea320c8b2e72",
   "metadata": {},
   "outputs": [],
   "source": [
    "from CC_50_Dataloader import prepare_dataloaders\n",
    "test_dir = \"../../UCF_CC_50/\"\n",
    "cc_50_test_loader = prepare_dataloaders(test_dir=test_dir)"
   ]
  },
  {
   "cell_type": "code",
   "execution_count": 12,
   "id": "731ef424-fbef-44eb-8c5e-446ba7505fb4",
   "metadata": {},
   "outputs": [
    {
     "name": "stdout",
     "output_type": "stream",
     "text": [
      "Test - Loss: 21.23085, MAE: 647.64769, MSE: 1214567.65187, RMSE: 647.64769\n"
     ]
    }
   ],
   "source": [
    "evaluate(model, cc_50_test_loader, criterion, sigma=0)"
   ]
  },
  {
   "cell_type": "code",
   "execution_count": null,
   "id": "b140c5f2-8da8-4ecd-8ee2-f18871603a8e",
   "metadata": {},
   "outputs": [],
   "source": []
  }
 ],
 "metadata": {
  "kernelspec": {
   "display_name": "Python 3 (ipykernel)",
   "language": "python",
   "name": "python3"
  },
  "language_info": {
   "codemirror_mode": {
    "name": "ipython",
    "version": 3
   },
   "file_extension": ".py",
   "mimetype": "text/x-python",
   "name": "python",
   "nbconvert_exporter": "python",
   "pygments_lexer": "ipython3",
   "version": "3.9.6"
  }
 },
 "nbformat": 4,
 "nbformat_minor": 5
}
