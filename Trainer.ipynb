{
 "cells": [
  {
   "cell_type": "code",
   "execution_count": 1,
   "metadata": {
    "_cell_guid": "59d833db-6396-4abc-87cd-a0cbd3edaf7e",
    "_uuid": "d331b626-cc39-4cdb-a5d4-a4f189a130a9",
    "collapsed": false,
    "id": "ITjsU-_zV3IT",
    "jupyter": {
     "outputs_hidden": false
    },
    "tags": []
   },
   "outputs": [],
   "source": [
    "import torch.optim as optim\n",
    "import torch\n",
    "import numpy as np\n",
    "import torch.nn as nn\n",
    "import torch.nn.functional as F\n",
    "from torch.optim.lr_scheduler import CosineAnnealingWarmRestarts, StepLR\n",
    "import time\n",
    "from datetime import timedelta\n",
    "from tqdm import tqdm\n",
    "import os"
   ]
  },
  {
   "cell_type": "code",
   "execution_count": 2,
   "metadata": {},
   "outputs": [],
   "source": [
    "from QNRF_Dataloader import prepare_dataloaders\n",
    "train_dir = \"./Datasets/UCF-QNRF_ECCV18/Train\"\n",
    "test_dir = \"./Datasets/UCF-QNRF_ECCV18/Test\"\n",
    "train_loader, val_loader, test_loader = prepare_dataloaders(train_dir=train_dir, test_dir=test_dir, val_split=0.2)"
   ]
  },
  {
   "cell_type": "code",
   "execution_count": 3,
   "metadata": {
    "_cell_guid": "b6145bc1-d1bb-4441-9760-9085a0ad27ef",
    "_uuid": "f14d0d0d-6efe-4ed7-8328-ba1c957f429d",
    "collapsed": false,
    "jupyter": {
     "outputs_hidden": false
    },
    "tags": []
   },
   "outputs": [],
   "source": [
    "from swin_wnet_model import SwinWnet\n",
    "from utilities import MAE_BCE_Loss, visualize_density_maps, plot_losses, calculate_density_map_metrics"
   ]
  },
  {
   "cell_type": "code",
   "execution_count": 4,
   "metadata": {
    "tags": []
   },
   "outputs": [
    {
     "data": {
      "text/plain": [
       "1"
      ]
     },
     "execution_count": 4,
     "metadata": {},
     "output_type": "execute_result"
    }
   ],
   "source": [
    "torch.cuda.device_count()"
   ]
  },
  {
   "cell_type": "code",
   "execution_count": 5,
   "metadata": {
    "_cell_guid": "237f5623-2ed2-4cf3-b24e-6bbbbf34ae26",
    "_uuid": "07aed1ef-c52c-4e43-9352-ae9fc5c5b14a",
    "collapsed": false,
    "id": "HdGw1fM3aBfU",
    "jupyter": {
     "outputs_hidden": false
    },
    "tags": []
   },
   "outputs": [
    {
     "data": {
      "text/plain": [
       "device(type='cuda')"
      ]
     },
     "execution_count": 5,
     "metadata": {},
     "output_type": "execute_result"
    }
   ],
   "source": [
    "device = torch.device('cuda' if torch.cuda.is_available() else 'cpu')\n",
    "device"
   ]
  },
  {
   "cell_type": "code",
   "execution_count": 6,
   "metadata": {
    "_cell_guid": "5252beeb-9ac5-40b0-8aac-8d1f6c83df49",
    "_uuid": "57039ea0-499b-4a66-b4a8-1a253b131d5b",
    "collapsed": false,
    "id": "mpCDQofhV3IV",
    "jupyter": {
     "outputs_hidden": false
    },
    "tags": []
   },
   "outputs": [],
   "source": [
    "def train_and_validate(model, train_loader, val_loader, criterion, optimizer, num_epochs, scheduler=None):\n",
    "    start_time = time.time()\n",
    "    \n",
    "    train_losses = []\n",
    "    val_losses = []\n",
    "    \n",
    "    for epoch in range(num_epochs):\n",
    "        model.train()\n",
    "        running_loss = 0.0\n",
    "        running_mae = 0.0\n",
    "        running_mse = 0.0\n",
    "        running_rmse = 0.0\n",
    "        batch = 0\n",
    "        num_batches = len(train_loader)\n",
    "        for images, target_density_maps, target_reinforcement_maps in tqdm(train_loader, desc=f\"Epoch {epoch + 1}/{num_epochs} - Training Progress: \"):\n",
    "            images, target_density_maps, target_reinforcement_maps = images.cuda(), target_density_maps.cuda(), target_reinforcement_maps.cuda()\n",
    "            \n",
    "            optimizer.zero_grad()\n",
    "            generated_density_maps, generated_reinforcement_maps = model(images)\n",
    "        \n",
    "            loss = criterion(generated_density_maps, generated_reinforcement_maps, target_density_maps, target_reinforcement_maps)\n",
    "            loss.backward()\n",
    "            optimizer.step()\n",
    "\n",
    "            running_loss += loss.item()\n",
    "            \n",
    "            mae, mse, rmse = calculate_density_map_metrics(generated_density_maps, target_density_maps)\n",
    "            running_mae += mae\n",
    "            running_mse += mse\n",
    "            running_rmse += rmse\n",
    "\n",
    "        avg_train_loss = running_loss / len(train_loader)\n",
    "        avg_train_mae = running_mae / len(train_loader)\n",
    "        avg_train_mse = running_mse / len(train_loader)\n",
    "        avg_train_rmse = running_rmse / len(train_loader)\n",
    "        \n",
    "        train_losses.append(avg_train_loss)          \n",
    "\n",
    "        model.eval()\n",
    "        val_running_loss = 0.0\n",
    "        val_running_mae = 0.0\n",
    "        val_running_mse = 0.0\n",
    "        val_running_rmse = 0.0\n",
    "        batch = 0\n",
    "        num_batches = len(val_loader)\n",
    "        with torch.no_grad():\n",
    "            for images, target_density_maps, target_reinforcement_maps in tqdm(val_loader, desc=f\"Epoch {epoch + 1}/{num_epochs} - Validation Progress: \"):\n",
    "                images, target_density_maps, target_reinforcement_maps = images.cuda(), target_density_maps.cuda(), target_reinforcement_maps.cuda()\n",
    "                \n",
    "                generated_density_maps, generated_reinforcement_maps = model(images)\n",
    "        \n",
    "                loss = criterion(generated_density_maps, generated_reinforcement_maps, target_density_maps, target_reinforcement_maps)\n",
    "    \n",
    "                val_running_loss += loss.item()\n",
    "                mae, mse, rmse = calculate_density_map_metrics(generated_density_maps, target_density_maps)\n",
    "                val_running_mae += mae\n",
    "                val_running_mse += mse\n",
    "                val_running_rmse += rmse\n",
    "\n",
    "        avg_val_loss = val_running_loss / len(val_loader)\n",
    "        avg_val_mae = val_running_mae / len(val_loader)\n",
    "        avg_val_mse = val_running_mse / len(val_loader)\n",
    "        avg_val_rmse = val_running_rmse / len(val_loader)\n",
    "        \n",
    "        val_losses.append(avg_val_loss)  \n",
    "            \n",
    "        if (epoch + 1) % 20 == 0 or (epoch + 1) == num_epochs:\n",
    "            print(f\"Epoch [{epoch+1}/{num_epochs}] Training - Loss: {avg_train_loss:.5f}, MAE: {avg_train_mae:.5f}, MSE: {avg_train_mse:.5f}, RMSE: {avg_train_rmse:.5f}\")\n",
    "            print(f\"Epoch [{epoch+1}/{num_epochs}] Validation - Loss: {avg_val_loss:.5f}, MAE: {avg_val_mae:.5f}, MSE: {avg_val_mse:.5f}, RMSE: {avg_val_rmse:.5f}\")\n",
    "        \n",
    "        if scheduler is not None:\n",
    "            scheduler.step()\n",
    "        \n",
    "        \n",
    "    end_time = time.time()\n",
    "    time_diff = end_time - start_time\n",
    "    time_taken = timedelta(seconds=time_diff)\n",
    "    print(f\"Time took to complete training: {time_taken}\")\n",
    "    \n",
    "    return train_losses, val_losses"
   ]
  },
  {
   "cell_type": "code",
   "execution_count": 7,
   "metadata": {},
   "outputs": [],
   "source": [
    "def initialize_model_weights(model):\n",
    "    for module in model.modules():\n",
    "        if isinstance(module, (nn.Conv2d, nn.Linear)):\n",
    "            nn.init.kaiming_normal_(module.weight)\n",
    "            if module.bias is not None:\n",
    "                nn.init.constant_(module.bias, 0)"
   ]
  },
  {
   "cell_type": "code",
   "execution_count": 8,
   "metadata": {
    "_cell_guid": "abcb0a22-93fc-4dab-b8a7-0ca2a1b6acf6",
    "_uuid": "595be691-f470-400c-98c9-ef9fa22dfa16",
    "collapsed": false,
    "id": "TBNAVSvlV3IV",
    "jupyter": {
     "outputs_hidden": false
    },
    "outputId": "308ebf2a-adfd-4106-dd53-982436e59e06",
    "tags": []
   },
   "outputs": [],
   "source": [
    "model = SwinWnet()\n",
    "initialize_model_weights(model)\n",
    "if torch.cuda.is_available() and torch.cuda.device_count() > 1:\n",
    "    model = nn.DataParallel(model)\n",
    "model = model.cuda()\n",
    "\n",
    "criterion = MAE_BCE_Loss()\n",
    "\n",
    "optimizer = optim.Adam(model.parameters(), lr=1e-3)\n",
    "\n",
    "scheduler = StepLR(optimizer, step_size=20, gamma=0.1)"
   ]
  },
  {
   "cell_type": "code",
   "execution_count": 9,
   "metadata": {},
   "outputs": [
    {
     "name": "stderr",
     "output_type": "stream",
     "text": [
      "Epoch 1/200 - Training Progress: 100%|██████████| 61/61 [02:51<00:00,  2.81s/it]\n",
      "Epoch 1/200 - Validation Progress: 100%|██████████| 15/15 [00:34<00:00,  2.32s/it]\n",
      "Epoch 2/200 - Training Progress: 100%|██████████| 61/61 [02:44<00:00,  2.70s/it]\n",
      "Epoch 2/200 - Validation Progress: 100%|██████████| 15/15 [00:34<00:00,  2.31s/it]\n",
      "Epoch 3/200 - Training Progress: 100%|██████████| 61/61 [02:45<00:00,  2.72s/it]\n",
      "Epoch 3/200 - Validation Progress: 100%|██████████| 15/15 [00:34<00:00,  2.31s/it]\n",
      "Epoch 4/200 - Training Progress: 100%|██████████| 61/61 [02:45<00:00,  2.71s/it]\n",
      "Epoch 4/200 - Validation Progress: 100%|██████████| 15/15 [00:34<00:00,  2.32s/it]\n",
      "Epoch 5/200 - Training Progress: 100%|██████████| 61/61 [02:45<00:00,  2.71s/it]\n",
      "Epoch 5/200 - Validation Progress: 100%|██████████| 15/15 [00:34<00:00,  2.32s/it]\n",
      "Epoch 6/200 - Training Progress: 100%|██████████| 61/61 [02:45<00:00,  2.72s/it]\n",
      "Epoch 6/200 - Validation Progress: 100%|██████████| 15/15 [00:34<00:00,  2.32s/it]\n",
      "Epoch 7/200 - Training Progress: 100%|██████████| 61/61 [02:46<00:00,  2.73s/it]\n",
      "Epoch 7/200 - Validation Progress: 100%|██████████| 15/15 [00:35<00:00,  2.35s/it]\n",
      "Epoch 8/200 - Training Progress: 100%|██████████| 61/61 [02:45<00:00,  2.72s/it]\n",
      "Epoch 8/200 - Validation Progress: 100%|██████████| 15/15 [00:34<00:00,  2.31s/it]\n",
      "Epoch 9/200 - Training Progress: 100%|██████████| 61/61 [02:45<00:00,  2.71s/it]\n",
      "Epoch 9/200 - Validation Progress: 100%|██████████| 15/15 [00:34<00:00,  2.31s/it]\n",
      "Epoch 10/200 - Training Progress: 100%|██████████| 61/61 [02:45<00:00,  2.71s/it]\n",
      "Epoch 10/200 - Validation Progress: 100%|██████████| 15/15 [00:34<00:00,  2.31s/it]\n",
      "Epoch 11/200 - Training Progress: 100%|██████████| 61/61 [02:44<00:00,  2.70s/it]\n",
      "Epoch 11/200 - Validation Progress: 100%|██████████| 15/15 [00:34<00:00,  2.31s/it]\n",
      "Epoch 12/200 - Training Progress: 100%|██████████| 61/61 [02:45<00:00,  2.71s/it]\n",
      "Epoch 12/200 - Validation Progress: 100%|██████████| 15/15 [00:34<00:00,  2.32s/it]\n",
      "Epoch 13/200 - Training Progress: 100%|██████████| 61/61 [02:45<00:00,  2.71s/it]\n",
      "Epoch 13/200 - Validation Progress: 100%|██████████| 15/15 [00:34<00:00,  2.32s/it]\n",
      "Epoch 14/200 - Training Progress: 100%|██████████| 61/61 [02:45<00:00,  2.72s/it]\n",
      "Epoch 14/200 - Validation Progress: 100%|██████████| 15/15 [00:35<00:00,  2.34s/it]\n",
      "Epoch 15/200 - Training Progress: 100%|██████████| 61/61 [02:45<00:00,  2.72s/it]\n",
      "Epoch 15/200 - Validation Progress: 100%|██████████| 15/15 [00:34<00:00,  2.32s/it]\n",
      "Epoch 16/200 - Training Progress: 100%|██████████| 61/61 [02:45<00:00,  2.71s/it]\n",
      "Epoch 16/200 - Validation Progress: 100%|██████████| 15/15 [00:34<00:00,  2.31s/it]\n",
      "Epoch 17/200 - Training Progress: 100%|██████████| 61/61 [02:45<00:00,  2.71s/it]\n",
      "Epoch 17/200 - Validation Progress: 100%|██████████| 15/15 [00:35<00:00,  2.33s/it]\n",
      "Epoch 18/200 - Training Progress: 100%|██████████| 61/61 [02:45<00:00,  2.71s/it]\n",
      "Epoch 18/200 - Validation Progress: 100%|██████████| 15/15 [00:34<00:00,  2.31s/it]\n",
      "Epoch 19/200 - Training Progress: 100%|██████████| 61/61 [02:45<00:00,  2.71s/it]\n",
      "Epoch 19/200 - Validation Progress: 100%|██████████| 15/15 [00:34<00:00,  2.32s/it]\n",
      "Epoch 20/200 - Training Progress: 100%|██████████| 61/61 [02:47<00:00,  2.74s/it]\n",
      "Epoch 20/200 - Validation Progress: 100%|██████████| 15/15 [00:35<00:00,  2.37s/it]\n"
     ]
    },
    {
     "name": "stdout",
     "output_type": "stream",
     "text": [
      "Epoch [20/200] Training - Loss: 19.04936, MAE: 0.01449, MSE: 0.00168, RMSE: 0.03788\n",
      "Epoch [20/200] Validation - Loss: 17.73335, MAE: 0.01265, MSE: 0.00172, RMSE: 0.03931\n"
     ]
    },
    {
     "name": "stderr",
     "output_type": "stream",
     "text": [
      "Epoch 21/200 - Training Progress: 100%|██████████| 61/61 [02:46<00:00,  2.73s/it]\n",
      "Epoch 21/200 - Validation Progress: 100%|██████████| 15/15 [00:34<00:00,  2.33s/it]\n",
      "Epoch 22/200 - Training Progress: 100%|██████████| 61/61 [02:45<00:00,  2.71s/it]\n",
      "Epoch 22/200 - Validation Progress: 100%|██████████| 15/15 [00:34<00:00,  2.32s/it]\n",
      "Epoch 23/200 - Training Progress: 100%|██████████| 61/61 [02:45<00:00,  2.71s/it]\n",
      "Epoch 23/200 - Validation Progress: 100%|██████████| 15/15 [00:34<00:00,  2.31s/it]\n",
      "Epoch 24/200 - Training Progress: 100%|██████████| 61/61 [02:44<00:00,  2.70s/it]\n",
      "Epoch 24/200 - Validation Progress: 100%|██████████| 15/15 [00:34<00:00,  2.31s/it]\n",
      "Epoch 25/200 - Training Progress: 100%|██████████| 61/61 [02:44<00:00,  2.70s/it]\n",
      "Epoch 25/200 - Validation Progress: 100%|██████████| 15/15 [00:34<00:00,  2.31s/it]\n",
      "Epoch 26/200 - Training Progress: 100%|██████████| 61/61 [02:45<00:00,  2.71s/it]\n",
      "Epoch 26/200 - Validation Progress: 100%|██████████| 15/15 [00:34<00:00,  2.32s/it]\n",
      "Epoch 27/200 - Training Progress: 100%|██████████| 61/61 [02:45<00:00,  2.72s/it]\n",
      "Epoch 27/200 - Validation Progress: 100%|██████████| 15/15 [00:34<00:00,  2.32s/it]\n",
      "Epoch 28/200 - Training Progress: 100%|██████████| 61/61 [02:46<00:00,  2.73s/it]\n",
      "Epoch 28/200 - Validation Progress: 100%|██████████| 15/15 [00:34<00:00,  2.33s/it]\n",
      "Epoch 29/200 - Training Progress: 100%|██████████| 61/61 [02:46<00:00,  2.73s/it]\n",
      "Epoch 29/200 - Validation Progress: 100%|██████████| 15/15 [00:34<00:00,  2.32s/it]\n",
      "Epoch 30/200 - Training Progress: 100%|██████████| 61/61 [02:45<00:00,  2.72s/it]\n",
      "Epoch 30/200 - Validation Progress: 100%|██████████| 15/15 [00:34<00:00,  2.32s/it]\n",
      "Epoch 31/200 - Training Progress: 100%|██████████| 61/61 [02:44<00:00,  2.70s/it]\n",
      "Epoch 31/200 - Validation Progress: 100%|██████████| 15/15 [00:34<00:00,  2.31s/it]\n",
      "Epoch 32/200 - Training Progress: 100%|██████████| 61/61 [02:44<00:00,  2.70s/it]\n",
      "Epoch 32/200 - Validation Progress: 100%|██████████| 15/15 [00:34<00:00,  2.32s/it]\n",
      "Epoch 34/200 - Training Progress: 100%|██████████| 61/61 [02:45<00:00,  2.72s/it]\n",
      "Epoch 34/200 - Validation Progress: 100%|██████████| 15/15 [00:34<00:00,  2.32s/it]\n",
      "Epoch 35/200 - Training Progress: 100%|██████████| 61/61 [02:44<00:00,  2.70s/it]\n",
      "Epoch 35/200 - Validation Progress: 100%|██████████| 15/15 [00:35<00:00,  2.34s/it]\n",
      "Epoch 36/200 - Training Progress: 100%|██████████| 61/61 [02:45<00:00,  2.71s/it]\n",
      "Epoch 36/200 - Validation Progress: 100%|██████████| 15/15 [00:34<00:00,  2.31s/it]\n",
      "Epoch 37/200 - Training Progress: 100%|██████████| 61/61 [02:44<00:00,  2.70s/it]\n",
      "Epoch 37/200 - Validation Progress: 100%|██████████| 15/15 [00:34<00:00,  2.31s/it]\n",
      "Epoch 38/200 - Training Progress: 100%|██████████| 61/61 [02:45<00:00,  2.71s/it]\n",
      "Epoch 38/200 - Validation Progress: 100%|██████████| 15/15 [00:34<00:00,  2.33s/it]\n",
      "Epoch 39/200 - Training Progress: 100%|██████████| 61/61 [02:45<00:00,  2.71s/it]\n",
      "Epoch 39/200 - Validation Progress: 100%|██████████| 15/15 [00:34<00:00,  2.30s/it]\n",
      "Epoch 40/200 - Training Progress: 100%|██████████| 61/61 [02:45<00:00,  2.71s/it]\n",
      "Epoch 40/200 - Validation Progress: 100%|██████████| 15/15 [00:34<00:00,  2.32s/it]\n"
     ]
    },
    {
     "name": "stdout",
     "output_type": "stream",
     "text": [
      "Epoch [40/200] Training - Loss: 14.34123, MAE: 0.01122, MSE: 0.00124, RMSE: 0.03240\n",
      "Epoch [40/200] Validation - Loss: 16.46167, MAE: 0.01298, MSE: 0.00187, RMSE: 0.04161\n"
     ]
    },
    {
     "name": "stderr",
     "output_type": "stream",
     "text": [
      "Epoch 41/200 - Training Progress: 100%|██████████| 61/61 [02:45<00:00,  2.71s/it]\n",
      "Epoch 41/200 - Validation Progress: 100%|██████████| 15/15 [00:35<00:00,  2.34s/it]\n",
      "Epoch 42/200 - Training Progress: 100%|██████████| 61/61 [02:46<00:00,  2.73s/it]\n",
      "Epoch 42/200 - Validation Progress: 100%|██████████| 15/15 [00:34<00:00,  2.33s/it]\n",
      "Epoch 43/200 - Training Progress: 100%|██████████| 61/61 [02:45<00:00,  2.71s/it]\n",
      "Epoch 43/200 - Validation Progress: 100%|██████████| 15/15 [00:34<00:00,  2.31s/it]\n",
      "Epoch 44/200 - Training Progress: 100%|██████████| 61/61 [02:44<00:00,  2.70s/it]\n",
      "Epoch 44/200 - Validation Progress: 100%|██████████| 15/15 [00:34<00:00,  2.30s/it]\n",
      "Epoch 45/200 - Training Progress: 100%|██████████| 61/61 [02:45<00:00,  2.72s/it]\n",
      "Epoch 45/200 - Validation Progress: 100%|██████████| 15/15 [00:34<00:00,  2.32s/it]\n",
      "Epoch 46/200 - Training Progress: 100%|██████████| 61/61 [02:45<00:00,  2.72s/it]\n",
      "Epoch 46/200 - Validation Progress: 100%|██████████| 15/15 [00:34<00:00,  2.31s/it]\n",
      "Epoch 47/200 - Training Progress: 100%|██████████| 61/61 [02:45<00:00,  2.71s/it]\n",
      "Epoch 47/200 - Validation Progress: 100%|██████████| 15/15 [00:34<00:00,  2.32s/it]\n",
      "Epoch 48/200 - Training Progress: 100%|██████████| 61/61 [02:45<00:00,  2.72s/it]\n",
      "Epoch 48/200 - Validation Progress: 100%|██████████| 15/15 [00:35<00:00,  2.35s/it]\n",
      "Epoch 49/200 - Training Progress: 100%|██████████| 61/61 [02:46<00:00,  2.73s/it]\n",
      "Epoch 49/200 - Validation Progress: 100%|██████████| 15/15 [00:35<00:00,  2.34s/it]\n",
      "Epoch 50/200 - Training Progress: 100%|██████████| 61/61 [02:45<00:00,  2.72s/it]\n",
      "Epoch 50/200 - Validation Progress: 100%|██████████| 15/15 [00:35<00:00,  2.34s/it]\n",
      "Epoch 51/200 - Training Progress: 100%|██████████| 61/61 [02:44<00:00,  2.70s/it]\n",
      "Epoch 51/200 - Validation Progress: 100%|██████████| 15/15 [00:34<00:00,  2.30s/it]\n",
      "Epoch 52/200 - Training Progress: 100%|██████████| 61/61 [02:45<00:00,  2.71s/it]\n",
      "Epoch 52/200 - Validation Progress: 100%|██████████| 15/15 [00:34<00:00,  2.32s/it]\n",
      "Epoch 53/200 - Training Progress: 100%|██████████| 61/61 [02:46<00:00,  2.72s/it]\n",
      "Epoch 53/200 - Validation Progress: 100%|██████████| 15/15 [00:34<00:00,  2.31s/it]\n",
      "Epoch 54/200 - Training Progress: 100%|██████████| 61/61 [02:45<00:00,  2.71s/it]\n",
      "Epoch 54/200 - Validation Progress: 100%|██████████| 15/15 [00:34<00:00,  2.31s/it]\n",
      "Epoch 55/200 - Training Progress: 100%|██████████| 61/61 [02:45<00:00,  2.71s/it]\n",
      "Epoch 55/200 - Validation Progress: 100%|██████████| 15/15 [00:34<00:00,  2.31s/it]\n",
      "Epoch 56/200 - Training Progress: 100%|██████████| 61/61 [02:45<00:00,  2.72s/it]\n",
      "Epoch 56/200 - Validation Progress: 100%|██████████| 15/15 [00:35<00:00,  2.33s/it]\n",
      "Epoch 57/200 - Training Progress: 100%|██████████| 61/61 [02:46<00:00,  2.72s/it]\n",
      "Epoch 57/200 - Validation Progress: 100%|██████████| 15/15 [00:34<00:00,  2.31s/it]\n",
      "Epoch 58/200 - Training Progress: 100%|██████████| 61/61 [02:45<00:00,  2.71s/it]\n",
      "Epoch 58/200 - Validation Progress: 100%|██████████| 15/15 [00:34<00:00,  2.31s/it]\n",
      "Epoch 59/200 - Training Progress: 100%|██████████| 61/61 [02:44<00:00,  2.70s/it]\n",
      "Epoch 59/200 - Validation Progress: 100%|██████████| 15/15 [00:34<00:00,  2.31s/it]\n",
      "Epoch 60/200 - Training Progress: 100%|██████████| 61/61 [02:45<00:00,  2.71s/it]\n",
      "Epoch 60/200 - Validation Progress: 100%|██████████| 15/15 [00:35<00:00,  2.33s/it]\n"
     ]
    },
    {
     "name": "stdout",
     "output_type": "stream",
     "text": [
      "Epoch [60/200] Training - Loss: 16.39206, MAE: 0.01287, MSE: 0.00156, RMSE: 0.03637\n",
      "Epoch [60/200] Validation - Loss: 25.34618, MAE: 0.02131, MSE: 0.00181, RMSE: 0.04136\n"
     ]
    },
    {
     "name": "stderr",
     "output_type": "stream",
     "text": [
      "Epoch 61/200 - Training Progress: 100%|██████████| 61/61 [02:46<00:00,  2.73s/it]\n",
      "Epoch 61/200 - Validation Progress: 100%|██████████| 15/15 [00:34<00:00,  2.33s/it]\n",
      "Epoch 62/200 - Training Progress: 100%|██████████| 61/61 [02:45<00:00,  2.72s/it]\n",
      "Epoch 62/200 - Validation Progress: 100%|██████████| 15/15 [00:34<00:00,  2.31s/it]\n",
      "Epoch 63/200 - Training Progress: 100%|██████████| 61/61 [02:45<00:00,  2.71s/it]\n",
      "Epoch 63/200 - Validation Progress: 100%|██████████| 15/15 [00:34<00:00,  2.32s/it]\n",
      "Epoch 64/200 - Training Progress: 100%|██████████| 61/61 [02:45<00:00,  2.71s/it]\n",
      "Epoch 64/200 - Validation Progress: 100%|██████████| 15/15 [00:35<00:00,  2.34s/it]\n",
      "Epoch 65/200 - Training Progress: 100%|██████████| 61/61 [02:46<00:00,  2.73s/it]\n",
      "Epoch 65/200 - Validation Progress: 100%|██████████| 15/15 [00:34<00:00,  2.31s/it]\n",
      "Epoch 66/200 - Training Progress: 100%|██████████| 61/61 [02:45<00:00,  2.71s/it]\n",
      "Epoch 66/200 - Validation Progress: 100%|██████████| 15/15 [00:34<00:00,  2.32s/it]\n",
      "Epoch 67/200 - Training Progress: 100%|██████████| 61/61 [02:45<00:00,  2.71s/it]\n",
      "Epoch 67/200 - Validation Progress: 100%|██████████| 15/15 [00:34<00:00,  2.32s/it]\n",
      "Epoch 68/200 - Training Progress: 100%|██████████| 61/61 [02:45<00:00,  2.71s/it]\n",
      "Epoch 68/200 - Validation Progress: 100%|██████████| 15/15 [00:35<00:00,  2.34s/it]\n",
      "Epoch 69/200 - Training Progress: 100%|██████████| 61/61 [02:46<00:00,  2.73s/it]\n",
      "Epoch 69/200 - Validation Progress: 100%|██████████| 15/15 [00:34<00:00,  2.32s/it]\n",
      "Epoch 70/200 - Training Progress: 100%|██████████| 61/61 [02:45<00:00,  2.71s/it]\n",
      "Epoch 70/200 - Validation Progress: 100%|██████████| 15/15 [00:34<00:00,  2.31s/it]\n",
      "Epoch 71/200 - Training Progress: 100%|██████████| 61/61 [02:44<00:00,  2.70s/it]\n",
      "Epoch 71/200 - Validation Progress: 100%|██████████| 15/15 [00:34<00:00,  2.31s/it]\n",
      "Epoch 72/200 - Training Progress: 100%|██████████| 61/61 [02:44<00:00,  2.70s/it]\n",
      "Epoch 72/200 - Validation Progress: 100%|██████████| 15/15 [00:34<00:00,  2.31s/it]\n",
      "Epoch 73/200 - Training Progress: 100%|██████████| 61/61 [02:45<00:00,  2.72s/it]\n",
      "Epoch 73/200 - Validation Progress: 100%|██████████| 15/15 [00:35<00:00,  2.34s/it]\n",
      "Epoch 74/200 - Training Progress: 100%|██████████| 61/61 [02:45<00:00,  2.72s/it]\n",
      "Epoch 74/200 - Validation Progress: 100%|██████████| 15/15 [00:34<00:00,  2.32s/it]\n",
      "Epoch 75/200 - Training Progress: 100%|██████████| 61/61 [02:45<00:00,  2.71s/it]\n",
      "Epoch 75/200 - Validation Progress: 100%|██████████| 15/15 [00:34<00:00,  2.30s/it]\n",
      "Epoch 76/200 - Training Progress: 100%|██████████| 61/61 [02:44<00:00,  2.70s/it]\n",
      "Epoch 76/200 - Validation Progress: 100%|██████████| 15/15 [00:34<00:00,  2.31s/it]\n",
      "Epoch 77/200 - Training Progress: 100%|██████████| 61/61 [02:45<00:00,  2.72s/it]\n",
      "Epoch 77/200 - Validation Progress: 100%|██████████| 15/15 [00:35<00:00,  2.33s/it]\n",
      "Epoch 78/200 - Training Progress: 100%|██████████| 61/61 [02:45<00:00,  2.72s/it]\n",
      "Epoch 78/200 - Validation Progress: 100%|██████████| 15/15 [00:34<00:00,  2.31s/it]\n",
      "Epoch 79/200 - Training Progress: 100%|██████████| 61/61 [02:45<00:00,  2.71s/it]\n",
      "Epoch 79/200 - Validation Progress: 100%|██████████| 15/15 [00:34<00:00,  2.32s/it]\n",
      "Epoch 80/200 - Training Progress: 100%|██████████| 61/61 [02:45<00:00,  2.71s/it]\n",
      "Epoch 80/200 - Validation Progress: 100%|██████████| 15/15 [00:34<00:00,  2.32s/it]\n"
     ]
    },
    {
     "name": "stdout",
     "output_type": "stream",
     "text": [
      "Epoch [80/200] Training - Loss: 13.72499, MAE: 0.01083, MSE: 0.00113, RMSE: 0.03068\n",
      "Epoch [80/200] Validation - Loss: 17.38691, MAE: 0.01339, MSE: 0.00155, RMSE: 0.03703\n"
     ]
    },
    {
     "name": "stderr",
     "output_type": "stream",
     "text": [
      "Epoch 81/200 - Training Progress: 100%|██████████| 61/61 [02:45<00:00,  2.72s/it]\n",
      "Epoch 81/200 - Validation Progress: 100%|██████████| 15/15 [00:35<00:00,  2.35s/it]\n",
      "Epoch 82/200 - Training Progress: 100%|██████████| 61/61 [02:46<00:00,  2.73s/it]\n",
      "Epoch 82/200 - Validation Progress: 100%|██████████| 15/15 [00:34<00:00,  2.32s/it]\n",
      "Epoch 83/200 - Training Progress: 100%|██████████| 61/61 [02:45<00:00,  2.71s/it]\n",
      "Epoch 83/200 - Validation Progress: 100%|██████████| 15/15 [00:34<00:00,  2.31s/it]\n",
      "Epoch 84/200 - Training Progress: 100%|██████████| 61/61 [02:44<00:00,  2.70s/it]\n",
      "Epoch 84/200 - Validation Progress: 100%|██████████| 15/15 [00:34<00:00,  2.31s/it]\n",
      "Epoch 85/200 - Training Progress: 100%|██████████| 61/61 [02:45<00:00,  2.72s/it]\n",
      "Epoch 85/200 - Validation Progress: 100%|██████████| 15/15 [00:35<00:00,  2.34s/it]\n",
      "Epoch 86/200 - Training Progress: 100%|██████████| 61/61 [02:45<00:00,  2.72s/it]\n",
      "Epoch 86/200 - Validation Progress: 100%|██████████| 15/15 [00:34<00:00,  2.31s/it]\n",
      "Epoch 87/200 - Training Progress: 100%|██████████| 61/61 [02:45<00:00,  2.72s/it]\n",
      "Epoch 87/200 - Validation Progress: 100%|██████████| 15/15 [00:34<00:00,  2.31s/it]\n",
      "Epoch 88/200 - Training Progress: 100%|██████████| 61/61 [02:44<00:00,  2.70s/it]\n",
      "Epoch 88/200 - Validation Progress: 100%|██████████| 15/15 [00:34<00:00,  2.30s/it]\n",
      "Epoch 89/200 - Training Progress: 100%|██████████| 61/61 [02:44<00:00,  2.70s/it]\n",
      "Epoch 89/200 - Validation Progress: 100%|██████████| 15/15 [00:34<00:00,  2.31s/it]\n",
      "Epoch 90/200 - Training Progress: 100%|██████████| 61/61 [02:45<00:00,  2.72s/it]\n",
      "Epoch 90/200 - Validation Progress: 100%|██████████| 15/15 [00:34<00:00,  2.31s/it]\n",
      "Epoch 91/200 - Training Progress: 100%|██████████| 61/61 [02:44<00:00,  2.70s/it]\n",
      "Epoch 91/200 - Validation Progress: 100%|██████████| 15/15 [00:34<00:00,  2.30s/it]\n",
      "Epoch 92/200 - Training Progress: 100%|██████████| 61/61 [02:44<00:00,  2.70s/it]\n",
      "Epoch 92/200 - Validation Progress: 100%|██████████| 15/15 [00:34<00:00,  2.31s/it]\n",
      "Epoch 93/200 - Training Progress: 100%|██████████| 61/61 [02:46<00:00,  2.73s/it]\n",
      "Epoch 93/200 - Validation Progress: 100%|██████████| 15/15 [00:34<00:00,  2.31s/it]\n",
      "Epoch 94/200 - Training Progress: 100%|██████████| 61/61 [02:45<00:00,  2.71s/it]\n",
      "Epoch 94/200 - Validation Progress: 100%|██████████| 15/15 [00:34<00:00,  2.32s/it]\n",
      "Epoch 95/200 - Training Progress: 100%|██████████| 61/61 [02:44<00:00,  2.70s/it]\n",
      "Epoch 95/200 - Validation Progress: 100%|██████████| 15/15 [00:34<00:00,  2.30s/it]\n",
      "Epoch 96/200 - Training Progress: 100%|██████████| 61/61 [02:44<00:00,  2.70s/it]\n",
      "Epoch 96/200 - Validation Progress: 100%|██████████| 15/15 [00:34<00:00,  2.33s/it]\n",
      "Epoch 97/200 - Training Progress: 100%|██████████| 61/61 [02:45<00:00,  2.72s/it]\n",
      "Epoch 97/200 - Validation Progress: 100%|██████████| 15/15 [00:34<00:00,  2.31s/it]\n",
      "Epoch 98/200 - Training Progress: 100%|██████████| 61/61 [02:45<00:00,  2.71s/it]\n",
      "Epoch 98/200 - Validation Progress: 100%|██████████| 15/15 [00:34<00:00,  2.31s/it]\n",
      "Epoch 99/200 - Training Progress: 100%|██████████| 61/61 [02:44<00:00,  2.70s/it]\n",
      "Epoch 99/200 - Validation Progress: 100%|██████████| 15/15 [00:34<00:00,  2.31s/it]\n",
      "Epoch 100/200 - Training Progress: 100%|██████████| 61/61 [02:45<00:00,  2.72s/it]\n",
      "Epoch 100/200 - Validation Progress: 100%|██████████| 15/15 [00:34<00:00,  2.33s/it]\n"
     ]
    },
    {
     "name": "stdout",
     "output_type": "stream",
     "text": [
      "Epoch [100/200] Training - Loss: 11.49521, MAE: 0.00913, MSE: 0.00075, RMSE: 0.02587\n",
      "Epoch [100/200] Validation - Loss: 14.02506, MAE: 0.01101, MSE: 0.00145, RMSE: 0.03700\n"
     ]
    },
    {
     "name": "stderr",
     "output_type": "stream",
     "text": [
      "Epoch 101/200 - Training Progress: 100%|██████████| 61/61 [02:45<00:00,  2.71s/it]\n",
      "Epoch 101/200 - Validation Progress: 100%|██████████| 15/15 [00:34<00:00,  2.31s/it]\n",
      "Epoch 102/200 - Training Progress: 100%|██████████| 61/61 [02:44<00:00,  2.70s/it]\n",
      "Epoch 102/200 - Validation Progress: 100%|██████████| 15/15 [00:34<00:00,  2.32s/it]\n",
      "Epoch 103/200 - Training Progress: 100%|██████████| 61/61 [02:45<00:00,  2.71s/it]\n",
      "Epoch 103/200 - Validation Progress: 100%|██████████| 15/15 [00:34<00:00,  2.30s/it]\n",
      "Epoch 104/200 - Training Progress: 100%|██████████| 61/61 [02:45<00:00,  2.72s/it]\n",
      "Epoch 104/200 - Validation Progress: 100%|██████████| 15/15 [00:34<00:00,  2.33s/it]\n",
      "Epoch 105/200 - Training Progress: 100%|██████████| 61/61 [02:45<00:00,  2.71s/it]\n",
      "Epoch 105/200 - Validation Progress: 100%|██████████| 15/15 [00:34<00:00,  2.31s/it]\n",
      "Epoch 106/200 - Training Progress: 100%|██████████| 61/61 [02:44<00:00,  2.70s/it]\n",
      "Epoch 106/200 - Validation Progress: 100%|██████████| 15/15 [00:34<00:00,  2.31s/it]\n",
      "Epoch 107/200 - Training Progress: 100%|██████████| 61/61 [02:44<00:00,  2.70s/it]\n",
      "Epoch 107/200 - Validation Progress: 100%|██████████| 15/15 [00:34<00:00,  2.31s/it]\n",
      "Epoch 108/200 - Training Progress: 100%|██████████| 61/61 [02:44<00:00,  2.70s/it]\n",
      "Epoch 108/200 - Validation Progress: 100%|██████████| 15/15 [00:34<00:00,  2.31s/it]\n",
      "Epoch 109/200 - Training Progress: 100%|██████████| 61/61 [02:44<00:00,  2.70s/it]\n",
      "Epoch 109/200 - Validation Progress: 100%|██████████| 15/15 [00:34<00:00,  2.31s/it]\n",
      "Epoch 110/200 - Training Progress: 100%|██████████| 61/61 [02:44<00:00,  2.70s/it]\n",
      "Epoch 110/200 - Validation Progress: 100%|██████████| 15/15 [00:34<00:00,  2.31s/it]\n",
      "Epoch 111/200 - Training Progress: 100%|██████████| 61/61 [02:44<00:00,  2.70s/it]\n",
      "Epoch 111/200 - Validation Progress: 100%|██████████| 15/15 [00:34<00:00,  2.31s/it]\n",
      "Epoch 112/200 - Training Progress: 100%|██████████| 61/61 [02:44<00:00,  2.70s/it]\n",
      "Epoch 112/200 - Validation Progress: 100%|██████████| 15/15 [00:34<00:00,  2.31s/it]\n",
      "Epoch 113/200 - Training Progress: 100%|██████████| 61/61 [02:44<00:00,  2.69s/it]\n",
      "Epoch 113/200 - Validation Progress: 100%|██████████| 15/15 [00:34<00:00,  2.31s/it]\n",
      "Epoch 114/200 - Training Progress: 100%|██████████| 61/61 [02:44<00:00,  2.69s/it]\n",
      "Epoch 114/200 - Validation Progress: 100%|██████████| 15/15 [00:34<00:00,  2.31s/it]\n",
      "Epoch 115/200 - Training Progress: 100%|██████████| 61/61 [02:44<00:00,  2.69s/it]\n",
      "Epoch 115/200 - Validation Progress: 100%|██████████| 15/15 [00:34<00:00,  2.30s/it]\n",
      "Epoch 116/200 - Training Progress: 100%|██████████| 61/61 [02:44<00:00,  2.70s/it]\n",
      "Epoch 116/200 - Validation Progress: 100%|██████████| 15/15 [00:34<00:00,  2.31s/it]\n",
      "Epoch 117/200 - Training Progress: 100%|██████████| 61/61 [02:44<00:00,  2.70s/it]\n",
      "Epoch 117/200 - Validation Progress: 100%|██████████| 15/15 [00:34<00:00,  2.31s/it]\n",
      "Epoch 118/200 - Training Progress: 100%|██████████| 61/61 [02:44<00:00,  2.70s/it]\n",
      "Epoch 118/200 - Validation Progress: 100%|██████████| 15/15 [00:34<00:00,  2.30s/it]\n",
      "Epoch 119/200 - Training Progress: 100%|██████████| 61/61 [02:45<00:00,  2.71s/it]\n",
      "Epoch 119/200 - Validation Progress: 100%|██████████| 15/15 [00:34<00:00,  2.31s/it]\n",
      "Epoch 120/200 - Training Progress: 100%|██████████| 61/61 [02:44<00:00,  2.70s/it]\n",
      "Epoch 120/200 - Validation Progress: 100%|██████████| 15/15 [00:34<00:00,  2.30s/it]\n"
     ]
    },
    {
     "name": "stdout",
     "output_type": "stream",
     "text": [
      "Epoch [120/200] Training - Loss: 11.91428, MAE: 0.00927, MSE: 0.00083, RMSE: 0.02662\n",
      "Epoch [120/200] Validation - Loss: 14.26570, MAE: 0.01120, MSE: 0.00117, RMSE: 0.03279\n"
     ]
    },
    {
     "name": "stderr",
     "output_type": "stream",
     "text": [
      "Epoch 121/200 - Training Progress: 100%|██████████| 61/61 [02:44<00:00,  2.70s/it]\n",
      "Epoch 121/200 - Validation Progress: 100%|██████████| 15/15 [00:34<00:00,  2.30s/it]\n",
      "Epoch 122/200 - Training Progress: 100%|██████████| 61/61 [02:44<00:00,  2.69s/it]\n",
      "Epoch 122/200 - Validation Progress: 100%|██████████| 15/15 [00:34<00:00,  2.30s/it]\n",
      "Epoch 123/200 - Training Progress: 100%|██████████| 61/61 [02:44<00:00,  2.70s/it]\n",
      "Epoch 123/200 - Validation Progress: 100%|██████████| 15/15 [00:34<00:00,  2.30s/it]\n",
      "Epoch 124/200 - Training Progress: 100%|██████████| 61/61 [02:44<00:00,  2.70s/it]\n",
      "Epoch 124/200 - Validation Progress: 100%|██████████| 15/15 [00:34<00:00,  2.31s/it]\n",
      "Epoch 125/200 - Training Progress: 100%|██████████| 61/61 [02:44<00:00,  2.70s/it]\n",
      "Epoch 125/200 - Validation Progress: 100%|██████████| 15/15 [00:34<00:00,  2.31s/it]\n",
      "Epoch 126/200 - Training Progress: 100%|██████████| 61/61 [02:44<00:00,  2.70s/it]\n",
      "Epoch 126/200 - Validation Progress: 100%|██████████| 15/15 [00:34<00:00,  2.31s/it]\n",
      "Epoch 127/200 - Training Progress: 100%|██████████| 61/61 [02:44<00:00,  2.70s/it]\n",
      "Epoch 127/200 - Validation Progress: 100%|██████████| 15/15 [00:34<00:00,  2.31s/it]\n",
      "Epoch 128/200 - Training Progress: 100%|██████████| 61/61 [02:45<00:00,  2.71s/it]\n",
      "Epoch 128/200 - Validation Progress: 100%|██████████| 15/15 [00:34<00:00,  2.31s/it]\n",
      "Epoch 129/200 - Training Progress: 100%|██████████| 61/61 [02:44<00:00,  2.70s/it]\n",
      "Epoch 129/200 - Validation Progress: 100%|██████████| 15/15 [00:34<00:00,  2.31s/it]\n",
      "Epoch 130/200 - Training Progress: 100%|██████████| 61/61 [02:44<00:00,  2.70s/it]\n",
      "Epoch 130/200 - Validation Progress: 100%|██████████| 15/15 [00:34<00:00,  2.31s/it]\n",
      "Epoch 131/200 - Training Progress: 100%|██████████| 61/61 [02:44<00:00,  2.70s/it]\n",
      "Epoch 131/200 - Validation Progress: 100%|██████████| 15/15 [00:34<00:00,  2.31s/it]\n",
      "Epoch 132/200 - Training Progress: 100%|██████████| 61/61 [02:44<00:00,  2.70s/it]\n",
      "Epoch 132/200 - Validation Progress: 100%|██████████| 15/15 [00:34<00:00,  2.31s/it]\n",
      "Epoch 133/200 - Training Progress: 100%|██████████| 61/61 [02:44<00:00,  2.70s/it]\n",
      "Epoch 133/200 - Validation Progress: 100%|██████████| 15/15 [00:34<00:00,  2.31s/it]\n",
      "Epoch 134/200 - Training Progress: 100%|██████████| 61/61 [02:44<00:00,  2.70s/it]\n",
      "Epoch 134/200 - Validation Progress: 100%|██████████| 15/15 [00:34<00:00,  2.31s/it]\n",
      "Epoch 135/200 - Training Progress: 100%|██████████| 61/61 [02:44<00:00,  2.70s/it]\n",
      "Epoch 135/200 - Validation Progress: 100%|██████████| 15/15 [00:34<00:00,  2.31s/it]\n",
      "Epoch 136/200 - Training Progress: 100%|██████████| 61/61 [02:44<00:00,  2.70s/it]\n",
      "Epoch 136/200 - Validation Progress: 100%|██████████| 15/15 [00:34<00:00,  2.31s/it]\n",
      "Epoch 137/200 - Training Progress: 100%|██████████| 61/61 [02:44<00:00,  2.70s/it]\n",
      "Epoch 137/200 - Validation Progress: 100%|██████████| 15/15 [00:34<00:00,  2.30s/it]\n",
      "Epoch 138/200 - Training Progress: 100%|██████████| 61/61 [02:44<00:00,  2.70s/it]\n",
      "Epoch 138/200 - Validation Progress: 100%|██████████| 15/15 [00:34<00:00,  2.31s/it]\n",
      "Epoch 139/200 - Training Progress: 100%|██████████| 61/61 [02:44<00:00,  2.70s/it]\n",
      "Epoch 139/200 - Validation Progress: 100%|██████████| 15/15 [00:34<00:00,  2.30s/it]\n",
      "Epoch 140/200 - Training Progress: 100%|██████████| 61/61 [02:44<00:00,  2.70s/it]\n",
      "Epoch 140/200 - Validation Progress: 100%|██████████| 15/15 [00:34<00:00,  2.30s/it]\n"
     ]
    },
    {
     "name": "stdout",
     "output_type": "stream",
     "text": [
      "Epoch [140/200] Training - Loss: 10.19410, MAE: 0.00796, MSE: 0.00057, RMSE: 0.02264\n",
      "Epoch [140/200] Validation - Loss: 13.07983, MAE: 0.01002, MSE: 0.00121, RMSE: 0.03347\n"
     ]
    },
    {
     "name": "stderr",
     "output_type": "stream",
     "text": [
      "Epoch 141/200 - Training Progress: 100%|██████████| 61/61 [02:44<00:00,  2.70s/it]\n",
      "Epoch 141/200 - Validation Progress: 100%|██████████| 15/15 [00:34<00:00,  2.31s/it]\n",
      "Epoch 142/200 - Training Progress: 100%|██████████| 61/61 [02:44<00:00,  2.70s/it]\n",
      "Epoch 142/200 - Validation Progress: 100%|██████████| 15/15 [00:34<00:00,  2.31s/it]\n",
      "Epoch 143/200 - Training Progress: 100%|██████████| 61/61 [02:45<00:00,  2.71s/it]\n",
      "Epoch 143/200 - Validation Progress: 100%|██████████| 15/15 [00:34<00:00,  2.30s/it]\n",
      "Epoch 144/200 - Training Progress: 100%|██████████| 61/61 [02:44<00:00,  2.70s/it]\n",
      "Epoch 144/200 - Validation Progress: 100%|██████████| 15/15 [00:34<00:00,  2.30s/it]\n",
      "Epoch 145/200 - Training Progress: 100%|██████████| 61/61 [02:45<00:00,  2.71s/it]\n",
      "Epoch 145/200 - Validation Progress: 100%|██████████| 15/15 [00:34<00:00,  2.31s/it]\n",
      "Epoch 146/200 - Training Progress: 100%|██████████| 61/61 [02:44<00:00,  2.69s/it]\n",
      "Epoch 146/200 - Validation Progress: 100%|██████████| 15/15 [00:34<00:00,  2.32s/it]\n",
      "Epoch 147/200 - Training Progress: 100%|██████████| 61/61 [02:44<00:00,  2.70s/it]\n",
      "Epoch 147/200 - Validation Progress: 100%|██████████| 15/15 [00:34<00:00,  2.30s/it]\n",
      "Epoch 148/200 - Training Progress: 100%|██████████| 61/61 [02:44<00:00,  2.70s/it]\n",
      "Epoch 148/200 - Validation Progress: 100%|██████████| 15/15 [00:34<00:00,  2.30s/it]\n",
      "Epoch 149/200 - Training Progress: 100%|██████████| 61/61 [02:44<00:00,  2.70s/it]\n",
      "Epoch 149/200 - Validation Progress: 100%|██████████| 15/15 [00:34<00:00,  2.30s/it]\n",
      "Epoch 150/200 - Training Progress: 100%|██████████| 61/61 [02:44<00:00,  2.70s/it]\n",
      "Epoch 150/200 - Validation Progress: 100%|██████████| 15/15 [00:34<00:00,  2.31s/it]\n",
      "Epoch 151/200 - Training Progress: 100%|██████████| 61/61 [02:44<00:00,  2.70s/it]\n",
      "Epoch 151/200 - Validation Progress: 100%|██████████| 15/15 [00:34<00:00,  2.30s/it]\n",
      "Epoch 152/200 - Training Progress: 100%|██████████| 61/61 [02:45<00:00,  2.71s/it]\n",
      "Epoch 152/200 - Validation Progress: 100%|██████████| 15/15 [00:34<00:00,  2.31s/it]\n",
      "Epoch 153/200 - Training Progress: 100%|██████████| 61/61 [02:44<00:00,  2.70s/it]\n",
      "Epoch 153/200 - Validation Progress: 100%|██████████| 15/15 [00:34<00:00,  2.31s/it]\n",
      "Epoch 154/200 - Training Progress: 100%|██████████| 61/61 [02:45<00:00,  2.71s/it]\n",
      "Epoch 154/200 - Validation Progress: 100%|██████████| 15/15 [00:34<00:00,  2.31s/it]\n",
      "Epoch 155/200 - Training Progress: 100%|██████████| 61/61 [02:44<00:00,  2.70s/it]\n",
      "Epoch 155/200 - Validation Progress: 100%|██████████| 15/15 [00:34<00:00,  2.32s/it]\n",
      "Epoch 156/200 - Training Progress: 100%|██████████| 61/61 [02:44<00:00,  2.70s/it]\n",
      "Epoch 156/200 - Validation Progress: 100%|██████████| 15/15 [00:34<00:00,  2.31s/it]\n",
      "Epoch 157/200 - Training Progress: 100%|██████████| 61/61 [02:44<00:00,  2.70s/it]\n",
      "Epoch 157/200 - Validation Progress: 100%|██████████| 15/15 [00:34<00:00,  2.30s/it]\n",
      "Epoch 158/200 - Training Progress: 100%|██████████| 61/61 [02:44<00:00,  2.70s/it]\n",
      "Epoch 158/200 - Validation Progress: 100%|██████████| 15/15 [00:34<00:00,  2.31s/it]\n",
      "Epoch 159/200 - Training Progress: 100%|██████████| 61/61 [02:44<00:00,  2.70s/it]\n",
      "Epoch 159/200 - Validation Progress: 100%|██████████| 15/15 [00:34<00:00,  2.31s/it]\n",
      "Epoch 160/200 - Training Progress: 100%|██████████| 61/61 [02:44<00:00,  2.70s/it]\n",
      "Epoch 160/200 - Validation Progress: 100%|██████████| 15/15 [00:34<00:00,  2.31s/it]\n"
     ]
    },
    {
     "name": "stdout",
     "output_type": "stream",
     "text": [
      "Epoch [160/200] Training - Loss: 9.50541, MAE: 0.00762, MSE: 0.00048, RMSE: 0.02074\n",
      "Epoch [160/200] Validation - Loss: 12.82292, MAE: 0.00983, MSE: 0.00121, RMSE: 0.03245\n"
     ]
    },
    {
     "name": "stderr",
     "output_type": "stream",
     "text": [
      "Epoch 161/200 - Training Progress: 100%|██████████| 61/61 [02:44<00:00,  2.70s/it]\n",
      "Epoch 161/200 - Validation Progress: 100%|██████████| 15/15 [00:34<00:00,  2.31s/it]\n",
      "Epoch 162/200 - Training Progress: 100%|██████████| 61/61 [02:44<00:00,  2.70s/it]\n",
      "Epoch 162/200 - Validation Progress: 100%|██████████| 15/15 [00:34<00:00,  2.30s/it]\n",
      "Epoch 163/200 - Training Progress: 100%|██████████| 61/61 [02:44<00:00,  2.70s/it]\n",
      "Epoch 163/200 - Validation Progress: 100%|██████████| 15/15 [00:34<00:00,  2.31s/it]\n",
      "Epoch 164/200 - Training Progress: 100%|██████████| 61/61 [02:45<00:00,  2.71s/it]\n",
      "Epoch 164/200 - Validation Progress: 100%|██████████| 15/15 [00:34<00:00,  2.31s/it]\n",
      "Epoch 165/200 - Training Progress: 100%|██████████| 61/61 [02:44<00:00,  2.70s/it]\n",
      "Epoch 165/200 - Validation Progress: 100%|██████████| 15/15 [00:34<00:00,  2.30s/it]\n",
      "Epoch 166/200 - Training Progress: 100%|██████████| 61/61 [02:44<00:00,  2.70s/it]\n",
      "Epoch 166/200 - Validation Progress: 100%|██████████| 15/15 [00:34<00:00,  2.31s/it]\n",
      "Epoch 167/200 - Training Progress: 100%|██████████| 61/61 [02:44<00:00,  2.70s/it]\n",
      "Epoch 167/200 - Validation Progress: 100%|██████████| 15/15 [00:34<00:00,  2.31s/it]\n",
      "Epoch 168/200 - Training Progress: 100%|██████████| 61/61 [02:45<00:00,  2.71s/it]\n",
      "Epoch 168/200 - Validation Progress: 100%|██████████| 15/15 [00:34<00:00,  2.31s/it]\n",
      "Epoch 169/200 - Training Progress: 100%|██████████| 61/61 [02:44<00:00,  2.70s/it]\n",
      "Epoch 169/200 - Validation Progress: 100%|██████████| 15/15 [00:34<00:00,  2.31s/it]\n",
      "Epoch 170/200 - Training Progress: 100%|██████████| 61/61 [02:44<00:00,  2.70s/it]\n",
      "Epoch 170/200 - Validation Progress: 100%|██████████| 15/15 [00:34<00:00,  2.31s/it]\n",
      "Epoch 171/200 - Training Progress: 100%|██████████| 61/61 [02:44<00:00,  2.70s/it]\n",
      "Epoch 171/200 - Validation Progress: 100%|██████████| 15/15 [00:34<00:00,  2.31s/it]\n",
      "Epoch 172/200 - Training Progress: 100%|██████████| 61/61 [02:44<00:00,  2.70s/it]\n",
      "Epoch 172/200 - Validation Progress: 100%|██████████| 15/15 [00:34<00:00,  2.32s/it]\n",
      "Epoch 173/200 - Training Progress: 100%|██████████| 61/61 [02:44<00:00,  2.70s/it]\n",
      "Epoch 173/200 - Validation Progress: 100%|██████████| 15/15 [00:34<00:00,  2.31s/it]\n",
      "Epoch 174/200 - Training Progress: 100%|██████████| 61/61 [02:44<00:00,  2.70s/it]\n",
      "Epoch 174/200 - Validation Progress: 100%|██████████| 15/15 [00:34<00:00,  2.32s/it]\n",
      "Epoch 175/200 - Training Progress: 100%|██████████| 61/61 [02:44<00:00,  2.70s/it]\n",
      "Epoch 175/200 - Validation Progress: 100%|██████████| 15/15 [00:34<00:00,  2.30s/it]\n",
      "Epoch 176/200 - Training Progress: 100%|██████████| 61/61 [02:45<00:00,  2.71s/it]\n",
      "Epoch 176/200 - Validation Progress: 100%|██████████| 15/15 [00:34<00:00,  2.32s/it]\n",
      "Epoch 177/200 - Training Progress: 100%|██████████| 61/61 [02:45<00:00,  2.71s/it]\n",
      "Epoch 177/200 - Validation Progress: 100%|██████████| 15/15 [00:34<00:00,  2.32s/it]\n",
      "Epoch 178/200 - Training Progress: 100%|██████████| 61/61 [02:44<00:00,  2.70s/it]\n",
      "Epoch 178/200 - Validation Progress: 100%|██████████| 15/15 [00:34<00:00,  2.31s/it]\n",
      "Epoch 179/200 - Training Progress: 100%|██████████| 61/61 [02:44<00:00,  2.70s/it]\n",
      "Epoch 179/200 - Validation Progress: 100%|██████████| 15/15 [00:34<00:00,  2.30s/it]\n",
      "Epoch 180/200 - Training Progress: 100%|██████████| 61/61 [02:44<00:00,  2.70s/it]\n",
      "Epoch 180/200 - Validation Progress: 100%|██████████| 15/15 [00:34<00:00,  2.30s/it]\n"
     ]
    },
    {
     "name": "stdout",
     "output_type": "stream",
     "text": [
      "Epoch [180/200] Training - Loss: 8.19666, MAE: 0.00658, MSE: 0.00035, RMSE: 0.01753\n",
      "Epoch [180/200] Validation - Loss: 12.72899, MAE: 0.00978, MSE: 0.00120, RMSE: 0.03327\n"
     ]
    },
    {
     "name": "stderr",
     "output_type": "stream",
     "text": [
      "Epoch 181/200 - Training Progress: 100%|██████████| 61/61 [02:44<00:00,  2.70s/it]\n",
      "Epoch 181/200 - Validation Progress: 100%|██████████| 15/15 [00:34<00:00,  2.31s/it]\n",
      "Epoch 182/200 - Training Progress: 100%|██████████| 61/61 [02:44<00:00,  2.70s/it]\n",
      "Epoch 182/200 - Validation Progress: 100%|██████████| 15/15 [00:34<00:00,  2.31s/it]\n",
      "Epoch 183/200 - Training Progress: 100%|██████████| 61/61 [02:44<00:00,  2.70s/it]\n",
      "Epoch 183/200 - Validation Progress: 100%|██████████| 15/15 [00:34<00:00,  2.32s/it]\n",
      "Epoch 184/200 - Training Progress: 100%|██████████| 61/61 [02:44<00:00,  2.70s/it]\n",
      "Epoch 184/200 - Validation Progress: 100%|██████████| 15/15 [00:34<00:00,  2.31s/it]\n",
      "Epoch 185/200 - Training Progress: 100%|██████████| 61/61 [02:44<00:00,  2.70s/it]\n",
      "Epoch 185/200 - Validation Progress: 100%|██████████| 15/15 [00:34<00:00,  2.31s/it]\n",
      "Epoch 186/200 - Training Progress: 100%|██████████| 61/61 [02:44<00:00,  2.70s/it]\n",
      "Epoch 186/200 - Validation Progress: 100%|██████████| 15/15 [00:34<00:00,  2.31s/it]\n",
      "Epoch 187/200 - Training Progress: 100%|██████████| 61/61 [02:44<00:00,  2.70s/it]\n",
      "Epoch 187/200 - Validation Progress: 100%|██████████| 15/15 [00:34<00:00,  2.31s/it]\n",
      "Epoch 188/200 - Training Progress: 100%|██████████| 61/61 [02:44<00:00,  2.70s/it]\n",
      "Epoch 188/200 - Validation Progress: 100%|██████████| 15/15 [00:34<00:00,  2.30s/it]\n",
      "Epoch 189/200 - Training Progress: 100%|██████████| 61/61 [02:44<00:00,  2.70s/it]\n",
      "Epoch 189/200 - Validation Progress: 100%|██████████| 15/15 [00:34<00:00,  2.31s/it]\n",
      "Epoch 190/200 - Training Progress: 100%|██████████| 61/61 [02:44<00:00,  2.70s/it]\n",
      "Epoch 190/200 - Validation Progress: 100%|██████████| 15/15 [00:34<00:00,  2.31s/it]\n",
      "Epoch 191/200 - Training Progress: 100%|██████████| 61/61 [02:44<00:00,  2.70s/it]\n",
      "Epoch 191/200 - Validation Progress: 100%|██████████| 15/15 [00:34<00:00,  2.31s/it]\n",
      "Epoch 192/200 - Training Progress: 100%|██████████| 61/61 [02:44<00:00,  2.70s/it]\n",
      "Epoch 192/200 - Validation Progress: 100%|██████████| 15/15 [00:34<00:00,  2.31s/it]\n",
      "Epoch 193/200 - Training Progress: 100%|██████████| 61/61 [02:44<00:00,  2.70s/it]\n",
      "Epoch 193/200 - Validation Progress: 100%|██████████| 15/15 [00:34<00:00,  2.31s/it]\n",
      "Epoch 194/200 - Training Progress: 100%|██████████| 61/61 [02:44<00:00,  2.70s/it]\n",
      "Epoch 194/200 - Validation Progress: 100%|██████████| 15/15 [00:34<00:00,  2.31s/it]\n",
      "Epoch 195/200 - Training Progress: 100%|██████████| 61/61 [02:44<00:00,  2.70s/it]\n",
      "Epoch 195/200 - Validation Progress: 100%|██████████| 15/15 [00:34<00:00,  2.31s/it]\n",
      "Epoch 196/200 - Training Progress: 100%|██████████| 61/61 [02:44<00:00,  2.70s/it]\n",
      "Epoch 196/200 - Validation Progress: 100%|██████████| 15/15 [00:34<00:00,  2.30s/it]\n",
      "Epoch 197/200 - Training Progress: 100%|██████████| 61/61 [02:45<00:00,  2.71s/it]\n",
      "Epoch 197/200 - Validation Progress: 100%|██████████| 15/15 [00:34<00:00,  2.31s/it]\n",
      "Epoch 198/200 - Training Progress: 100%|██████████| 61/61 [02:44<00:00,  2.70s/it]\n",
      "Epoch 198/200 - Validation Progress: 100%|██████████| 15/15 [00:34<00:00,  2.31s/it]\n",
      "Epoch 199/200 - Training Progress: 100%|██████████| 61/61 [02:44<00:00,  2.70s/it]\n",
      "Epoch 199/200 - Validation Progress: 100%|██████████| 15/15 [00:34<00:00,  2.31s/it]\n",
      "Epoch 200/200 - Training Progress: 100%|██████████| 61/61 [02:45<00:00,  2.71s/it]\n",
      "Epoch 200/200 - Validation Progress: 100%|██████████| 15/15 [00:34<00:00,  2.31s/it]"
     ]
    },
    {
     "name": "stdout",
     "output_type": "stream",
     "text": [
      "Epoch [200/200] Training - Loss: 8.29586, MAE: 0.00683, MSE: 0.00036, RMSE: 0.01780\n",
      "Epoch [200/200] Validation - Loss: 12.62288, MAE: 0.00946, MSE: 0.00110, RMSE: 0.03134\n",
      "Time took to complete training: 11:06:16.739187\n"
     ]
    },
    {
     "name": "stderr",
     "output_type": "stream",
     "text": [
      "\n"
     ]
    }
   ],
   "source": [
    "num_epochs = 200\n",
    "train_losses, val_losses = train_and_validate(model, train_loader, val_loader, criterion, optimizer, num_epochs, scheduler=None)"
   ]
  },
  {
   "cell_type": "code",
   "execution_count": 10,
   "metadata": {},
   "outputs": [
    {
     "data": {
      "image/png": "[encoded data removed]",
      "text/plain": [
       "<Figure size 720x360 with 1 Axes>"
      ]
     },
     "metadata": {
      "needs_background": "light"
     },
     "output_type": "display_data"
    }
   ],
   "source": [
    "plot_losses(train_losses, val_losses)"
   ]
  },
  {
   "cell_type": "code",
   "execution_count": 11,
   "metadata": {},
   "outputs": [],
   "source": [
    "torch.save(model.state_dict(), 'model.pth')"
   ]
  },
  {
   "cell_type": "code",
   "execution_count": null,
   "metadata": {
    "_cell_guid": "43cf47d1-4e1f-4b1a-b207-702463936d86",
    "_uuid": "12bd4ae6-b477-4dd1-90d9-133129a46bdb",
    "collapsed": false,
    "jupyter": {
     "outputs_hidden": false
    }
   },
   "outputs": [],
   "source": []
  },
  {
   "cell_type": "code",
   "execution_count": null,
   "metadata": {
    "_cell_guid": "6eab7f07-f4e6-4ad7-8ac3-3e4c77a20ab0",
    "_uuid": "1b922a5d-0bb7-4dcf-85c1-193096934c69",
    "collapsed": false,
    "jupyter": {
     "outputs_hidden": false
    }
   },
   "outputs": [],
   "source": []
  }
 ],
 "metadata": {
  "colab": {
   "provenance": []
  },
  "kaggle": {
   "accelerator": "nvidiaTeslaT4",
   "dataSources": [
    {
     "datasetId": 5431422,
     "sourceId": 9014304,
     "sourceType": "datasetVersion"
    },
    {
     "sourceId": 189395661,
     "sourceType": "kernelVersion"
    },
    {
     "sourceId": 189642023,
     "sourceType": "kernelVersion"
    }
   ],
   "dockerImageVersionId": 30747,
   "isGpuEnabled": true,
   "isInternetEnabled": true,
   "language": "python",
   "sourceType": "notebook"
  },
  "kernelspec": {
   "display_name": "Python 3 (ipykernel)",
   "language": "python",
   "name": "python3"
  },
  "language_info": {
   "codemirror_mode": {
    "name": "ipython",
    "version": 3
   },
   "file_extension": ".py",
   "mimetype": "text/x-python",
   "name": "python",
   "nbconvert_exporter": "python",
   "pygments_lexer": "ipython3",
   "version": "3.9.6"
  }
 },
 "nbformat": 4,
 "nbformat_minor": 4
}
